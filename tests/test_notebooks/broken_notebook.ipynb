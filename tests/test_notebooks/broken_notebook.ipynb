{
    "metadata": {
        "kernelspec": {
            "name": "python3",
            "display_name": "Python 3"
        },
        "language_info": {
            "name": "python",
            "version": "3.6.6",
            "mimetype": "text/x-python",
            "codemirror_mode": {
                "name": "ipython",
                "version": 3
            },
            "pygments_lexer": "ipython3",
            "nbconvert_exporter": "python",
            "file_extension": ".py"
        }
    },
    "nbformat_minor": 2,
    "nbformat": 4,
    "cells": [
        {
            "cell_type": "markdown",
            "source": "DIR001 - Run dir\n====================================================\n",
            "metadata": {}
        },
        {
            "cell_type": "code",
            "source": "!dir\r\nprint \"bad\" + 1\r\n",
            "metadata": {},
            "outputs": [
                {
                    "traceback": [
                        "\u001b[1;36m  File \u001b[1;32m\"<ipython-input-2-31c169e78ce3>\"\u001b[1;36m, line \u001b[1;32m2\u001b[0m\n\u001b[1;33m    print \"bad\" + 1\u001b[0m\n\u001b[1;37m              ^\u001b[0m\n\u001b[1;31mSyntaxError\u001b[0m\u001b[1;31m:\u001b[0m Missing parentheses in call to 'print'. Did you mean print(\"bad\" + 1)?\n"
                    ],
                    "ename": "SyntaxError",
                    "evalue": "Missing parentheses in call to 'print'. Did you mean print(\"bad\" + 1)? (<ipython-input-2-31c169e78ce3>, line 2)",
                    "output_type": "error"
                }
            ],
            "execution_count": 2
        }
    ]
}